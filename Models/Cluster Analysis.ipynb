{
  "nbformat": 4,
  "nbformat_minor": 0,
  "metadata": {
    "colab": {
      "name": "Cluster Analysis.ipynb",
      "provenance": [],
      "collapsed_sections": [
        "KfUk_lZXsHCE",
        "Q8LlntAKG_wx",
        "Y8BFLr6UHEHF",
        "dbmdfCoLYInr",
        "Vb9tjFkbtNmY"
      ]
    },
    "kernelspec": {
      "display_name": "Python 3",
      "name": "python3"
    },
    "language_info": {
      "name": "python"
    }
  },
  "cells": [
    {
      "cell_type": "code",
      "metadata": {
        "colab": {
          "base_uri": "https://localhost:8080/"
        },
        "id": "7sAyunRut7_n",
        "outputId": "996f8e7b-ed13-42b2-cca5-3480de77ff46"
      },
      "source": [
        "!pip install kneed"
      ],
      "execution_count": 1,
      "outputs": [
        {
          "output_type": "stream",
          "text": [
            "Collecting kneed\n",
            "  Downloading https://files.pythonhosted.org/packages/c3/6b/e130913aaaad1373060e259ab222ca2330672db696b297b082c3f3089fcc/kneed-0.7.0-py2.py3-none-any.whl\n",
            "Requirement already satisfied: numpy>=1.14.2 in /usr/local/lib/python3.7/dist-packages (from kneed) (1.19.5)\n",
            "Requirement already satisfied: scipy in /usr/local/lib/python3.7/dist-packages (from kneed) (1.4.1)\n",
            "Requirement already satisfied: matplotlib in /usr/local/lib/python3.7/dist-packages (from kneed) (3.2.2)\n",
            "Requirement already satisfied: kiwisolver>=1.0.1 in /usr/local/lib/python3.7/dist-packages (from matplotlib->kneed) (1.3.1)\n",
            "Requirement already satisfied: python-dateutil>=2.1 in /usr/local/lib/python3.7/dist-packages (from matplotlib->kneed) (2.8.1)\n",
            "Requirement already satisfied: cycler>=0.10 in /usr/local/lib/python3.7/dist-packages (from matplotlib->kneed) (0.10.0)\n",
            "Requirement already satisfied: pyparsing!=2.0.4,!=2.1.2,!=2.1.6,>=2.0.1 in /usr/local/lib/python3.7/dist-packages (from matplotlib->kneed) (2.4.7)\n",
            "Requirement already satisfied: six>=1.5 in /usr/local/lib/python3.7/dist-packages (from python-dateutil>=2.1->matplotlib->kneed) (1.15.0)\n",
            "Installing collected packages: kneed\n",
            "Successfully installed kneed-0.7.0\n"
          ],
          "name": "stdout"
        }
      ]
    },
    {
      "cell_type": "code",
      "metadata": {
        "id": "07AfUnQdapZy"
      },
      "source": [
        "import pandas as pd\n",
        "import numpy as np\n",
        "import matplotlib.pyplot as plt\n",
        "import seaborn as sns \n",
        "\n",
        "import re\n",
        "import warnings\n",
        "warnings.filterwarnings(\"ignore\")\n",
        "\n",
        "from datetime import datetime ,timedelta\n",
        "\n",
        "from kneed import KneeLocator\n",
        "from sklearn.datasets import make_blobs\n",
        "from sklearn.cluster import KMeans\n",
        "from sklearn.metrics import silhouette_score\n",
        "from sklearn.preprocessing import StandardScaler\n",
        "from sklearn.decomposition import PCA\n",
        "from mpl_toolkits.mplot3d import Axes3D"
      ],
      "execution_count": 2,
      "outputs": []
    },
    {
      "cell_type": "code",
      "metadata": {
        "id": "3QkeBT6vnLyQ"
      },
      "source": [
        "data = pd.read_csv('/content/drive/MyDrive/KPMG/clean_data.csv',index_col=0) "
      ],
      "execution_count": 6,
      "outputs": []
    },
    {
      "cell_type": "code",
      "metadata": {
        "colab": {
          "base_uri": "https://localhost:8080/",
          "height": 146
        },
        "id": "cG6vUZzSyA6N",
        "outputId": "12d1162d-6acc-4330-ecd4-666961e6f385"
      },
      "source": [
        "data.head(2)"
      ],
      "execution_count": 7,
      "outputs": [
        {
          "output_type": "execute_result",
          "data": {
            "text/html": [
              "<div>\n",
              "<style scoped>\n",
              "    .dataframe tbody tr th:only-of-type {\n",
              "        vertical-align: middle;\n",
              "    }\n",
              "\n",
              "    .dataframe tbody tr th {\n",
              "        vertical-align: top;\n",
              "    }\n",
              "\n",
              "    .dataframe thead th {\n",
              "        text-align: right;\n",
              "    }\n",
              "</style>\n",
              "<table border=\"1\" class=\"dataframe\">\n",
              "  <thead>\n",
              "    <tr style=\"text-align: right;\">\n",
              "      <th></th>\n",
              "      <th>transaction_id</th>\n",
              "      <th>product_id</th>\n",
              "      <th>customer_id</th>\n",
              "      <th>transaction_date</th>\n",
              "      <th>online_order</th>\n",
              "      <th>order_status</th>\n",
              "      <th>brand</th>\n",
              "      <th>product_line</th>\n",
              "      <th>product_class</th>\n",
              "      <th>product_size</th>\n",
              "      <th>list_price</th>\n",
              "      <th>standard_cost</th>\n",
              "      <th>lasted_for_years</th>\n",
              "      <th>discount_amt</th>\n",
              "      <th>gender</th>\n",
              "      <th>past_3_years_bike_related_purchases</th>\n",
              "      <th>job_industry_category</th>\n",
              "      <th>wealth_segment</th>\n",
              "      <th>owns_car</th>\n",
              "      <th>tenure</th>\n",
              "      <th>state</th>\n",
              "      <th>property_valuation</th>\n",
              "      <th>age</th>\n",
              "    </tr>\n",
              "  </thead>\n",
              "  <tbody>\n",
              "    <tr>\n",
              "      <th>0</th>\n",
              "      <td>1</td>\n",
              "      <td>2</td>\n",
              "      <td>2950</td>\n",
              "      <td>2017-02-25</td>\n",
              "      <td>0.0</td>\n",
              "      <td>Approved</td>\n",
              "      <td>Solex</td>\n",
              "      <td>Standard</td>\n",
              "      <td>medium</td>\n",
              "      <td>medium</td>\n",
              "      <td>71.49</td>\n",
              "      <td>53.62</td>\n",
              "      <td>5</td>\n",
              "      <td>17.87</td>\n",
              "      <td>Male</td>\n",
              "      <td>19</td>\n",
              "      <td>Financial Services</td>\n",
              "      <td>Mass Customer</td>\n",
              "      <td>Yes</td>\n",
              "      <td>10.0</td>\n",
              "      <td>Victoria</td>\n",
              "      <td>6</td>\n",
              "      <td>62.0</td>\n",
              "    </tr>\n",
              "    <tr>\n",
              "      <th>1</th>\n",
              "      <td>11065</td>\n",
              "      <td>1</td>\n",
              "      <td>2950</td>\n",
              "      <td>2017-10-16</td>\n",
              "      <td>0.0</td>\n",
              "      <td>Approved</td>\n",
              "      <td>Giant Bicycles</td>\n",
              "      <td>Standard</td>\n",
              "      <td>medium</td>\n",
              "      <td>medium</td>\n",
              "      <td>1403.50</td>\n",
              "      <td>954.82</td>\n",
              "      <td>14</td>\n",
              "      <td>448.68</td>\n",
              "      <td>Male</td>\n",
              "      <td>19</td>\n",
              "      <td>Financial Services</td>\n",
              "      <td>Mass Customer</td>\n",
              "      <td>Yes</td>\n",
              "      <td>10.0</td>\n",
              "      <td>Victoria</td>\n",
              "      <td>6</td>\n",
              "      <td>62.0</td>\n",
              "    </tr>\n",
              "  </tbody>\n",
              "</table>\n",
              "</div>"
            ],
            "text/plain": [
              "   transaction_id  product_id  customer_id  ...     state  property_valuation   age\n",
              "0               1           2         2950  ...  Victoria                   6  62.0\n",
              "1           11065           1         2950  ...  Victoria                   6  62.0\n",
              "\n",
              "[2 rows x 23 columns]"
            ]
          },
          "metadata": {
            "tags": []
          },
          "execution_count": 7
        }
      ]
    },
    {
      "cell_type": "code",
      "metadata": {
        "id": "x3X6NgFqyKag"
      },
      "source": [
        "data['month'] = data.transaction_date.apply(lambda x: datetime.strptime(x, '%Y-%m-%d').month)"
      ],
      "execution_count": 8,
      "outputs": []
    },
    {
      "cell_type": "code",
      "metadata": {
        "id": "y6i4DHVQwT2j"
      },
      "source": [
        "data.drop(['transaction_id','product_id','customer_id','order_status','transaction_date'],axis=1, inplace=True) # removing variables that do not add any significant variance."
      ],
      "execution_count": 9,
      "outputs": []
    },
    {
      "cell_type": "code",
      "metadata": {
        "colab": {
          "base_uri": "https://localhost:8080/",
          "height": 200
        },
        "id": "oau0hjk3xw4V",
        "outputId": "1355b54e-8783-4d12-d17d-41383508ff6d"
      },
      "source": [
        "# standardising the numerical columns\n",
        "\n",
        "num_cols = ['standard_cost','lasted_for_years','discount_amt','past_3_years_bike_related_purchases','tenure','property_valuation','age','month']\n",
        "feature = data[num_cols]\n",
        "scaler = StandardScaler().fit(feature.values)\n",
        "feature = scaler.transform(feature.values)\n",
        "scaled_features = pd.DataFrame(feature, columns = num_cols)\n",
        "scaled_features.head()"
      ],
      "execution_count": 10,
      "outputs": [
        {
          "output_type": "execute_result",
          "data": {
            "text/html": [
              "<div>\n",
              "<style scoped>\n",
              "    .dataframe tbody tr th:only-of-type {\n",
              "        vertical-align: middle;\n",
              "    }\n",
              "\n",
              "    .dataframe tbody tr th {\n",
              "        vertical-align: top;\n",
              "    }\n",
              "\n",
              "    .dataframe thead th {\n",
              "        text-align: right;\n",
              "    }\n",
              "</style>\n",
              "<table border=\"1\" class=\"dataframe\">\n",
              "  <thead>\n",
              "    <tr style=\"text-align: right;\">\n",
              "      <th></th>\n",
              "      <th>standard_cost</th>\n",
              "      <th>lasted_for_years</th>\n",
              "      <th>discount_amt</th>\n",
              "      <th>past_3_years_bike_related_purchases</th>\n",
              "      <th>tenure</th>\n",
              "      <th>property_valuation</th>\n",
              "      <th>age</th>\n",
              "      <th>month</th>\n",
              "    </tr>\n",
              "  </thead>\n",
              "  <tbody>\n",
              "    <tr>\n",
              "      <th>0</th>\n",
              "      <td>-1.237847</td>\n",
              "      <td>-1.007344</td>\n",
              "      <td>-1.082157</td>\n",
              "      <td>-1.040916</td>\n",
              "      <td>-0.123531</td>\n",
              "      <td>-0.537132</td>\n",
              "      <td>1.777155</td>\n",
              "      <td>-1.309672</td>\n",
              "    </tr>\n",
              "    <tr>\n",
              "      <th>1</th>\n",
              "      <td>0.982222</td>\n",
              "      <td>0.132681</td>\n",
              "      <td>-0.208977</td>\n",
              "      <td>-1.040916</td>\n",
              "      <td>-0.123531</td>\n",
              "      <td>-0.537132</td>\n",
              "      <td>1.777155</td>\n",
              "      <td>1.009131</td>\n",
              "    </tr>\n",
              "    <tr>\n",
              "      <th>2</th>\n",
              "      <td>-0.634053</td>\n",
              "      <td>-0.754005</td>\n",
              "      <td>-0.754681</td>\n",
              "      <td>-1.040916</td>\n",
              "      <td>-0.123531</td>\n",
              "      <td>-0.537132</td>\n",
              "      <td>1.777155</td>\n",
              "      <td>-0.729971</td>\n",
              "    </tr>\n",
              "    <tr>\n",
              "      <th>3</th>\n",
              "      <td>-0.411849</td>\n",
              "      <td>-1.260683</td>\n",
              "      <td>2.332409</td>\n",
              "      <td>1.406628</td>\n",
              "      <td>-0.123531</td>\n",
              "      <td>-0.891155</td>\n",
              "      <td>-0.149257</td>\n",
              "      <td>-0.440121</td>\n",
              "    </tr>\n",
              "    <tr>\n",
              "      <th>4</th>\n",
              "      <td>0.299007</td>\n",
              "      <td>-0.880674</td>\n",
              "      <td>-0.202957</td>\n",
              "      <td>1.406628</td>\n",
              "      <td>-0.123531</td>\n",
              "      <td>-0.891155</td>\n",
              "      <td>-0.149257</td>\n",
              "      <td>1.009131</td>\n",
              "    </tr>\n",
              "  </tbody>\n",
              "</table>\n",
              "</div>"
            ],
            "text/plain": [
              "   standard_cost  lasted_for_years  ...       age     month\n",
              "0      -1.237847         -1.007344  ...  1.777155 -1.309672\n",
              "1       0.982222          0.132681  ...  1.777155  1.009131\n",
              "2      -0.634053         -0.754005  ...  1.777155 -0.729971\n",
              "3      -0.411849         -1.260683  ... -0.149257 -0.440121\n",
              "4       0.299007         -0.880674  ... -0.149257  1.009131\n",
              "\n",
              "[5 rows x 8 columns]"
            ]
          },
          "metadata": {
            "tags": []
          },
          "execution_count": 10
        }
      ]
    },
    {
      "cell_type": "code",
      "metadata": {
        "id": "lFLB9mXX13JH"
      },
      "source": [
        "# dummy variables for the categorical variable\n",
        "\n",
        "cat_cols = ['brand','product_line','product_class','product_size','gender','job_industry_category','wealth_segment','owns_car','state']\n",
        "categorical_df = data[cat_cols]\n",
        "cat_df = pd.get_dummies(categorical_df, prefix=None, prefix_sep='_', dummy_na=False, columns=None, sparse=False, drop_first=False, dtype=None)"
      ],
      "execution_count": 11,
      "outputs": []
    },
    {
      "cell_type": "code",
      "metadata": {
        "id": "ImS50Cz23h2g"
      },
      "source": [
        "data = pd.concat([cat_df, scaled_features],axis=1)"
      ],
      "execution_count": 12,
      "outputs": []
    },
    {
      "cell_type": "code",
      "metadata": {
        "id": "frTH1Gyayi3r",
        "colab": {
          "base_uri": "https://localhost:8080/",
          "height": 254
        },
        "outputId": "b0511f64-c6ab-4bf6-c080-da71e9fd1969"
      },
      "source": [
        "data.head()"
      ],
      "execution_count": 13,
      "outputs": [
        {
          "output_type": "execute_result",
          "data": {
            "text/html": [
              "<div>\n",
              "<style scoped>\n",
              "    .dataframe tbody tr th:only-of-type {\n",
              "        vertical-align: middle;\n",
              "    }\n",
              "\n",
              "    .dataframe tbody tr th {\n",
              "        vertical-align: top;\n",
              "    }\n",
              "\n",
              "    .dataframe thead th {\n",
              "        text-align: right;\n",
              "    }\n",
              "</style>\n",
              "<table border=\"1\" class=\"dataframe\">\n",
              "  <thead>\n",
              "    <tr style=\"text-align: right;\">\n",
              "      <th></th>\n",
              "      <th>brand_Giant Bicycles</th>\n",
              "      <th>brand_Norco Bicycles</th>\n",
              "      <th>brand_OHM Cycles</th>\n",
              "      <th>brand_Solex</th>\n",
              "      <th>brand_Trek Bicycles</th>\n",
              "      <th>brand_WeareA2B</th>\n",
              "      <th>product_line_Mountain</th>\n",
              "      <th>product_line_Road</th>\n",
              "      <th>product_line_Standard</th>\n",
              "      <th>product_line_Touring</th>\n",
              "      <th>product_class_high</th>\n",
              "      <th>product_class_low</th>\n",
              "      <th>product_class_medium</th>\n",
              "      <th>product_size_large</th>\n",
              "      <th>product_size_medium</th>\n",
              "      <th>product_size_small</th>\n",
              "      <th>gender_Female</th>\n",
              "      <th>gender_Male</th>\n",
              "      <th>gender_Unknown</th>\n",
              "      <th>job_industry_category_Argiculture</th>\n",
              "      <th>job_industry_category_Entertainment</th>\n",
              "      <th>job_industry_category_Financial Services</th>\n",
              "      <th>job_industry_category_Health</th>\n",
              "      <th>job_industry_category_IT</th>\n",
              "      <th>job_industry_category_Manufacturing</th>\n",
              "      <th>job_industry_category_Property</th>\n",
              "      <th>job_industry_category_Retail</th>\n",
              "      <th>job_industry_category_Telecommunications</th>\n",
              "      <th>job_industry_category_Unknown</th>\n",
              "      <th>wealth_segment_Affluent Customer</th>\n",
              "      <th>wealth_segment_High Net Worth</th>\n",
              "      <th>wealth_segment_Mass Customer</th>\n",
              "      <th>owns_car_No</th>\n",
              "      <th>owns_car_Yes</th>\n",
              "      <th>state_New South Wales</th>\n",
              "      <th>state_Queensland</th>\n",
              "      <th>state_Victoria</th>\n",
              "      <th>standard_cost</th>\n",
              "      <th>lasted_for_years</th>\n",
              "      <th>discount_amt</th>\n",
              "      <th>past_3_years_bike_related_purchases</th>\n",
              "      <th>tenure</th>\n",
              "      <th>property_valuation</th>\n",
              "      <th>age</th>\n",
              "      <th>month</th>\n",
              "    </tr>\n",
              "  </thead>\n",
              "  <tbody>\n",
              "    <tr>\n",
              "      <th>0</th>\n",
              "      <td>0</td>\n",
              "      <td>0</td>\n",
              "      <td>0</td>\n",
              "      <td>1</td>\n",
              "      <td>0</td>\n",
              "      <td>0</td>\n",
              "      <td>0</td>\n",
              "      <td>0</td>\n",
              "      <td>1</td>\n",
              "      <td>0</td>\n",
              "      <td>0</td>\n",
              "      <td>0</td>\n",
              "      <td>1</td>\n",
              "      <td>0</td>\n",
              "      <td>1</td>\n",
              "      <td>0</td>\n",
              "      <td>0</td>\n",
              "      <td>1</td>\n",
              "      <td>0</td>\n",
              "      <td>0</td>\n",
              "      <td>0</td>\n",
              "      <td>1</td>\n",
              "      <td>0</td>\n",
              "      <td>0</td>\n",
              "      <td>0</td>\n",
              "      <td>0</td>\n",
              "      <td>0</td>\n",
              "      <td>0</td>\n",
              "      <td>0</td>\n",
              "      <td>0</td>\n",
              "      <td>0</td>\n",
              "      <td>1</td>\n",
              "      <td>0</td>\n",
              "      <td>1</td>\n",
              "      <td>0</td>\n",
              "      <td>0</td>\n",
              "      <td>1</td>\n",
              "      <td>-1.237847</td>\n",
              "      <td>-1.007344</td>\n",
              "      <td>-1.082157</td>\n",
              "      <td>-1.040916</td>\n",
              "      <td>-0.123531</td>\n",
              "      <td>-0.537132</td>\n",
              "      <td>1.777155</td>\n",
              "      <td>-1.309672</td>\n",
              "    </tr>\n",
              "    <tr>\n",
              "      <th>1</th>\n",
              "      <td>1</td>\n",
              "      <td>0</td>\n",
              "      <td>0</td>\n",
              "      <td>0</td>\n",
              "      <td>0</td>\n",
              "      <td>0</td>\n",
              "      <td>0</td>\n",
              "      <td>0</td>\n",
              "      <td>1</td>\n",
              "      <td>0</td>\n",
              "      <td>0</td>\n",
              "      <td>0</td>\n",
              "      <td>1</td>\n",
              "      <td>0</td>\n",
              "      <td>1</td>\n",
              "      <td>0</td>\n",
              "      <td>0</td>\n",
              "      <td>1</td>\n",
              "      <td>0</td>\n",
              "      <td>0</td>\n",
              "      <td>0</td>\n",
              "      <td>1</td>\n",
              "      <td>0</td>\n",
              "      <td>0</td>\n",
              "      <td>0</td>\n",
              "      <td>0</td>\n",
              "      <td>0</td>\n",
              "      <td>0</td>\n",
              "      <td>0</td>\n",
              "      <td>0</td>\n",
              "      <td>0</td>\n",
              "      <td>1</td>\n",
              "      <td>0</td>\n",
              "      <td>1</td>\n",
              "      <td>0</td>\n",
              "      <td>0</td>\n",
              "      <td>1</td>\n",
              "      <td>0.982222</td>\n",
              "      <td>0.132681</td>\n",
              "      <td>-0.208977</td>\n",
              "      <td>-1.040916</td>\n",
              "      <td>-0.123531</td>\n",
              "      <td>-0.537132</td>\n",
              "      <td>1.777155</td>\n",
              "      <td>1.009131</td>\n",
              "    </tr>\n",
              "    <tr>\n",
              "      <th>2</th>\n",
              "      <td>0</td>\n",
              "      <td>0</td>\n",
              "      <td>0</td>\n",
              "      <td>1</td>\n",
              "      <td>0</td>\n",
              "      <td>0</td>\n",
              "      <td>0</td>\n",
              "      <td>0</td>\n",
              "      <td>1</td>\n",
              "      <td>0</td>\n",
              "      <td>0</td>\n",
              "      <td>0</td>\n",
              "      <td>1</td>\n",
              "      <td>0</td>\n",
              "      <td>1</td>\n",
              "      <td>0</td>\n",
              "      <td>0</td>\n",
              "      <td>1</td>\n",
              "      <td>0</td>\n",
              "      <td>0</td>\n",
              "      <td>0</td>\n",
              "      <td>1</td>\n",
              "      <td>0</td>\n",
              "      <td>0</td>\n",
              "      <td>0</td>\n",
              "      <td>0</td>\n",
              "      <td>0</td>\n",
              "      <td>0</td>\n",
              "      <td>0</td>\n",
              "      <td>0</td>\n",
              "      <td>0</td>\n",
              "      <td>1</td>\n",
              "      <td>0</td>\n",
              "      <td>1</td>\n",
              "      <td>0</td>\n",
              "      <td>0</td>\n",
              "      <td>1</td>\n",
              "      <td>-0.634053</td>\n",
              "      <td>-0.754005</td>\n",
              "      <td>-0.754681</td>\n",
              "      <td>-1.040916</td>\n",
              "      <td>-0.123531</td>\n",
              "      <td>-0.537132</td>\n",
              "      <td>1.777155</td>\n",
              "      <td>-0.729971</td>\n",
              "    </tr>\n",
              "    <tr>\n",
              "      <th>3</th>\n",
              "      <td>0</td>\n",
              "      <td>0</td>\n",
              "      <td>0</td>\n",
              "      <td>0</td>\n",
              "      <td>1</td>\n",
              "      <td>0</td>\n",
              "      <td>0</td>\n",
              "      <td>0</td>\n",
              "      <td>1</td>\n",
              "      <td>0</td>\n",
              "      <td>0</td>\n",
              "      <td>0</td>\n",
              "      <td>1</td>\n",
              "      <td>1</td>\n",
              "      <td>0</td>\n",
              "      <td>0</td>\n",
              "      <td>1</td>\n",
              "      <td>0</td>\n",
              "      <td>0</td>\n",
              "      <td>0</td>\n",
              "      <td>0</td>\n",
              "      <td>0</td>\n",
              "      <td>1</td>\n",
              "      <td>0</td>\n",
              "      <td>0</td>\n",
              "      <td>0</td>\n",
              "      <td>0</td>\n",
              "      <td>0</td>\n",
              "      <td>0</td>\n",
              "      <td>0</td>\n",
              "      <td>0</td>\n",
              "      <td>1</td>\n",
              "      <td>0</td>\n",
              "      <td>1</td>\n",
              "      <td>1</td>\n",
              "      <td>0</td>\n",
              "      <td>0</td>\n",
              "      <td>-0.411849</td>\n",
              "      <td>-1.260683</td>\n",
              "      <td>2.332409</td>\n",
              "      <td>1.406628</td>\n",
              "      <td>-0.123531</td>\n",
              "      <td>-0.891155</td>\n",
              "      <td>-0.149257</td>\n",
              "      <td>-0.440121</td>\n",
              "    </tr>\n",
              "    <tr>\n",
              "      <th>4</th>\n",
              "      <td>1</td>\n",
              "      <td>0</td>\n",
              "      <td>0</td>\n",
              "      <td>0</td>\n",
              "      <td>0</td>\n",
              "      <td>0</td>\n",
              "      <td>0</td>\n",
              "      <td>0</td>\n",
              "      <td>1</td>\n",
              "      <td>0</td>\n",
              "      <td>1</td>\n",
              "      <td>0</td>\n",
              "      <td>0</td>\n",
              "      <td>0</td>\n",
              "      <td>1</td>\n",
              "      <td>0</td>\n",
              "      <td>1</td>\n",
              "      <td>0</td>\n",
              "      <td>0</td>\n",
              "      <td>0</td>\n",
              "      <td>0</td>\n",
              "      <td>0</td>\n",
              "      <td>1</td>\n",
              "      <td>0</td>\n",
              "      <td>0</td>\n",
              "      <td>0</td>\n",
              "      <td>0</td>\n",
              "      <td>0</td>\n",
              "      <td>0</td>\n",
              "      <td>0</td>\n",
              "      <td>0</td>\n",
              "      <td>1</td>\n",
              "      <td>0</td>\n",
              "      <td>1</td>\n",
              "      <td>1</td>\n",
              "      <td>0</td>\n",
              "      <td>0</td>\n",
              "      <td>0.299007</td>\n",
              "      <td>-0.880674</td>\n",
              "      <td>-0.202957</td>\n",
              "      <td>1.406628</td>\n",
              "      <td>-0.123531</td>\n",
              "      <td>-0.891155</td>\n",
              "      <td>-0.149257</td>\n",
              "      <td>1.009131</td>\n",
              "    </tr>\n",
              "  </tbody>\n",
              "</table>\n",
              "</div>"
            ],
            "text/plain": [
              "   brand_Giant Bicycles  brand_Norco Bicycles  ...       age     month\n",
              "0                     0                     0  ...  1.777155 -1.309672\n",
              "1                     1                     0  ...  1.777155  1.009131\n",
              "2                     0                     0  ...  1.777155 -0.729971\n",
              "3                     0                     0  ... -0.149257 -0.440121\n",
              "4                     1                     0  ... -0.149257  1.009131\n",
              "\n",
              "[5 rows x 45 columns]"
            ]
          },
          "metadata": {
            "tags": []
          },
          "execution_count": 13
        }
      ]
    },
    {
      "cell_type": "markdown",
      "metadata": {
        "id": "zxaooc0TjKVT"
      },
      "source": [
        "Using the elbow method to determine the value of k"
      ]
    },
    {
      "cell_type": "code",
      "metadata": {
        "colab": {
          "base_uri": "https://localhost:8080/",
          "height": 404
        },
        "id": "vzC8r2KjKffh",
        "outputId": "993e2ef4-4a4e-4ae6-a4ef-2c2bae9bd9d8"
      },
      "source": [
        "SSE = []\n",
        "\n",
        "for cluster in range(1,112):\n",
        "    kmeans = KMeans(n_jobs = -1, n_clusters = cluster, init='k-means++')\n",
        "    kmeans.fit(data)\n",
        "    SSE.append(kmeans.inertia_)\n",
        "\n",
        "# converting the results into a dataframe and plotting them\n",
        "frame = pd.DataFrame({'Cluster':range(1,112), 'SSE':SSE})\n",
        "plt.figure(figsize=(12,6))\n",
        "plt.plot(frame['Cluster'], frame['SSE'], marker='o')\n",
        "plt.xlabel('Number of clusters')\n",
        "plt.ylabel('Inertia')"
      ],
      "execution_count": null,
      "outputs": [
        {
          "output_type": "execute_result",
          "data": {
            "text/plain": [
              "Text(0, 0.5, 'Inertia')"
            ]
          },
          "metadata": {
            "tags": []
          },
          "execution_count": 56
        },
        {
          "output_type": "display_data",
          "data": {
            "image/png": "[encoded data removed]",
            "text/plain": [
              "<Figure size 864x432 with 1 Axes>"
            ]
          },
          "metadata": {
            "tags": [],
            "needs_background": "light"
          }
        }
      ]
    },
    {
      "cell_type": "code",
      "metadata": {
        "colab": {
          "base_uri": "https://localhost:8080/",
          "height": 404
        },
        "id": "4WZWQopS7IDc",
        "outputId": "4842d2d9-c4a9-4c76-ac08-375c8ef67af4"
      },
      "source": [
        "SSE = []\n",
        "\n",
        "for cluster in range(1,20):\n",
        "    kmeans = KMeans(n_jobs = -1, n_clusters = cluster, init='k-means++')\n",
        "    kmeans.fit(data)\n",
        "    SSE.append(kmeans.inertia_)\n",
        "\n",
        "# converting the results into a dataframe and plotting them\n",
        "frame = pd.DataFrame({'Cluster':range(1,20), 'SSE':SSE})\n",
        "plt.figure(figsize=(12,6))\n",
        "plt.plot(frame['Cluster'], frame['SSE'], marker='o')\n",
        "plt.xlabel('Number of clusters')\n",
        "plt.ylabel('Inertia')"
      ],
      "execution_count": null,
      "outputs": [
        {
          "output_type": "execute_result",
          "data": {
            "text/plain": [
              "Text(0, 0.5, 'Inertia')"
            ]
          },
          "metadata": {
            "tags": []
          },
          "execution_count": 32
        },
        {
          "output_type": "display_data",
          "data": {
            "image/png": "[encoded data removed]",
            "text/plain": [
              "<Figure size 864x432 with 1 Axes>"
            ]
          },
          "metadata": {
            "tags": [],
            "needs_background": "light"
          }
        }
      ]
    },
    {
      "cell_type": "markdown",
      "metadata": {
        "id": "oWNcRr2zi7sa"
      },
      "source": [
        "I am having trouble in finding the value for k, so I decided to use the Silhouette Method to see if a particular value of k is good or not. \n",
        "\n",
        "If the value is closer to 1 then the k value is good. But there were no value of k for which the Silhouette value is more than 0.5. they all range from 0.03 - 0.08 which is very low. \n",
        "\n",
        "So I can conclude that the data observations do not have that much difference amoung themselves to create cluster."
      ]
    },
    {
      "cell_type": "code",
      "metadata": {
        "colab": {
          "base_uri": "https://localhost:8080/"
        },
        "id": "pYkwWfXBkr4_",
        "outputId": "08fc977f-7ead-40c2-d60e-e0163e082755"
      },
      "source": [
        "# First, build a model with 4 clusters\n",
        "\n",
        "kmeans = KMeans(n_jobs = -1, n_clusters = 2, init='k-means++')\n",
        "kmeans.fit(data)\n",
        "\n",
        "# Now, print the silhouette score of this model\n",
        "\n",
        "print(silhouette_score(data, kmeans.labels_, metric='euclidean'))"
      ],
      "execution_count": 14,
      "outputs": [
        {
          "output_type": "stream",
          "text": [
            "0.07746657541367051\n"
          ],
          "name": "stdout"
        }
      ]
    },
    {
      "cell_type": "code",
      "metadata": {
        "colab": {
          "base_uri": "https://localhost:8080/"
        },
        "id": "g8pKxDp6lMiU",
        "outputId": "8abd5645-6957-4bf8-f90f-c28400fb3c6f"
      },
      "source": [
        "# First, build a model with 4 clusters\n",
        "\n",
        "kmeans = KMeans(n_jobs = -1, n_clusters = 5, init='k-means++')\n",
        "kmeans.fit(data)\n",
        "\n",
        "# Now, print the silhouette score of this model\n",
        "\n",
        "print(silhouette_score(data, kmeans.labels_, metric='euclidean'))"
      ],
      "execution_count": 15,
      "outputs": [
        {
          "output_type": "stream",
          "text": [
            "0.07291442268085754\n"
          ],
          "name": "stdout"
        }
      ]
    },
    {
      "cell_type": "code",
      "metadata": {
        "colab": {
          "base_uri": "https://localhost:8080/"
        },
        "id": "UwGGv3uWlS0b",
        "outputId": "6c8f197b-27bd-46c8-fe45-42fe22da9e0c"
      },
      "source": [
        "# First, build a model with 4 clusters\n",
        "\n",
        "kmeans = KMeans(n_jobs = -1, n_clusters = 8, init='k-means++')\n",
        "kmeans.fit(data)\n",
        "\n",
        "# Now, print the silhouette score of this model\n",
        "\n",
        "print(silhouette_score(data, kmeans.labels_, metric='euclidean'))"
      ],
      "execution_count": 16,
      "outputs": [
        {
          "output_type": "stream",
          "text": [
            "0.056720135237265296\n"
          ],
          "name": "stdout"
        }
      ]
    },
    {
      "cell_type": "code",
      "metadata": {
        "colab": {
          "base_uri": "https://localhost:8080/"
        },
        "id": "nm9ZN1Sk6pA9",
        "outputId": "0da03f4f-e926-428d-e620-51af017abff5"
      },
      "source": [
        "# First, build a model with 4 clusters\n",
        "\n",
        "kmeans = KMeans(n_jobs = -1, n_clusters = 15, init='k-means++')\n",
        "kmeans.fit(data)\n",
        "\n",
        "# Now, print the silhouette score of this model\n",
        "\n",
        "print(silhouette_score(data, kmeans.labels_, metric='euclidean'))"
      ],
      "execution_count": null,
      "outputs": [
        {
          "output_type": "stream",
          "text": [
            "0.05337125364065405\n"
          ],
          "name": "stdout"
        }
      ]
    },
    {
      "cell_type": "code",
      "metadata": {
        "colab": {
          "base_uri": "https://localhost:8080/"
        },
        "id": "EkI8R8h1C6iL",
        "outputId": "ae21ebe7-dff4-4579-ca0b-42cd7c5a8d5b"
      },
      "source": [
        "# First, build a model with 4 clusters\n",
        "\n",
        "kmeans = KMeans(n_jobs = -1, n_clusters = 25, init='k-means++')\n",
        "kmeans.fit(data)\n",
        "\n",
        "# Now, print the silhouette score of this model\n",
        "\n",
        "print(silhouette_score(data, kmeans.labels_, metric='euclidean'))"
      ],
      "execution_count": null,
      "outputs": [
        {
          "output_type": "stream",
          "text": [
            "0.05116066871960225\n"
          ],
          "name": "stdout"
        }
      ]
    },
    {
      "cell_type": "code",
      "metadata": {
        "colab": {
          "base_uri": "https://localhost:8080/"
        },
        "id": "-4iWDbLdC9zi",
        "outputId": "a00cb732-f86b-4161-825f-31f6ac377c98"
      },
      "source": [
        "# First, build a model with 4 clusters\n",
        "\n",
        "kmeans = KMeans(n_jobs = -1, n_clusters = 35, init='k-means++')\n",
        "kmeans.fit(data)\n",
        "\n",
        "# Now, print the silhouette score of this model\n",
        "\n",
        "print(silhouette_score(data, kmeans.labels_, metric='euclidean'))"
      ],
      "execution_count": null,
      "outputs": [
        {
          "output_type": "stream",
          "text": [
            "0.049346554302172094\n"
          ],
          "name": "stdout"
        }
      ]
    },
    {
      "cell_type": "code",
      "metadata": {
        "colab": {
          "base_uri": "https://localhost:8080/"
        },
        "id": "4YLihFonC-_H",
        "outputId": "551571c4-20b0-44d8-8a07-79dbe5643364"
      },
      "source": [
        "# First, build a model with 4 clusters\n",
        "\n",
        "kmeans = KMeans(n_jobs = -1, n_clusters = 45, init='k-means++')\n",
        "kmeans.fit(data)\n",
        "\n",
        "# Now, print the silhouette score of this model\n",
        "\n",
        "print(silhouette_score(data, kmeans.labels_, metric='euclidean'))"
      ],
      "execution_count": null,
      "outputs": [
        {
          "output_type": "stream",
          "text": [
            "0.04936157343304597\n"
          ],
          "name": "stdout"
        }
      ]
    }
  ]
}